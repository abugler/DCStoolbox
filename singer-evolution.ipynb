{
 "cells": [
  {
   "cell_type": "code",
   "execution_count": 4,
   "metadata": {},
   "outputs": [],
   "source": [
    "import numpy as np\n",
    "import matplotlib.pyplot as plt\n",
    "import pandas as pd\n",
    "import mir_eval\n",
    "import pretty_midi\n",
    "\n",
    "import os\n"
   ]
  },
  {
   "cell_type": "markdown",
   "metadata": {},
   "source": [
    "## Proposed method\n",
    "\n",
    "1. Choose two continguous singers from different choir sections, i.e. tenor and alto from Quartet A.\n",
    "2. Choose a piece (Locus Iste) and read pitch contours from both singers for all the takes of the piece.\n",
    "3. Get stable regions of the notes. Use MIDI-like information to segment pitch contours into stable pitch regions.\n",
    "4. For each performance:\n",
    "\n",
    "    4.1 Compute harmonic interval widths for each note.\n",
    "    \n",
    "    4.2 Compare to theoretical 12TET widths.\n",
    "    \n",
    "    4.3 Plots\n",
    "\n"
   ]
  },
  {
   "cell_type": "code",
   "execution_count": 14,
   "metadata": {},
   "outputs": [],
   "source": [
    "def get_info_from_midi(midifile):\n",
    "\n",
    "    patt = pretty_midi.PrettyMIDI(midifile)\n",
    "\n",
    "    onsets = []\n",
    "    offsets = []\n",
    "    pitches = []\n",
    "    for instrument in patt.instruments:\n",
    "        for note in instrument.notes:\n",
    "            onsets.append(note.start)\n",
    "            offsets.append(note.end)\n",
    "            pitches.append(note.pitch)\n",
    "\n",
    "    midi_pitches = pitches\n",
    "\n",
    "    pitches = midi_to_hz(pitches)\n",
    "\n",
    "    onsets, offsets, pitches = np.array(onsets), np.array(offsets), np.array(pitches)\n",
    "\n",
    "    return onsets,offsets, pitches, midi_pitches"
   ]
  },
  {
   "cell_type": "code",
   "execution_count": null,
   "metadata": {},
   "outputs": [],
   "source": []
  },
  {
   "cell_type": "code",
   "execution_count": 15,
   "metadata": {},
   "outputs": [
    {
     "ename": "NameError",
     "evalue": "name 'pretty_midi' is not defined",
     "output_type": "error",
     "traceback": [
      "\u001b[0;31m---------------------------------------------------------------------------\u001b[0m",
      "\u001b[0;31mNameError\u001b[0m                                 Traceback (most recent call last)",
      "\u001b[0;32m<ipython-input-15-773b37cd6970>\u001b[0m in \u001b[0;36m<module>\u001b[0;34m\u001b[0m\n\u001b[1;32m     15\u001b[0m \u001b[0;34m\u001b[0m\u001b[0m\n\u001b[1;32m     16\u001b[0m     alto_on, alto_off, _, alto_midi = get_info_from_midi(\n\u001b[0;32m---> 17\u001b[0;31m         os.path.join(midi_path, '{}{}{}.mid'.format(basename, i+1, '_A1')))\n\u001b[0m\u001b[1;32m     18\u001b[0m \u001b[0;34m\u001b[0m\u001b[0m\n\u001b[1;32m     19\u001b[0m     tenor_on, tenor_off, _, tenor_midi = get_info_from_midi(\n",
      "\u001b[0;32m<ipython-input-14-5683a55a46ce>\u001b[0m in \u001b[0;36mget_info_from_midi\u001b[0;34m(midifile)\u001b[0m\n\u001b[1;32m      1\u001b[0m \u001b[0;32mdef\u001b[0m \u001b[0mget_info_from_midi\u001b[0m\u001b[0;34m(\u001b[0m\u001b[0mmidifile\u001b[0m\u001b[0;34m)\u001b[0m\u001b[0;34m:\u001b[0m\u001b[0;34m\u001b[0m\u001b[0;34m\u001b[0m\u001b[0m\n\u001b[1;32m      2\u001b[0m \u001b[0;34m\u001b[0m\u001b[0m\n\u001b[0;32m----> 3\u001b[0;31m     \u001b[0mpatt\u001b[0m \u001b[0;34m=\u001b[0m \u001b[0mpretty_midi\u001b[0m\u001b[0;34m.\u001b[0m\u001b[0mPrettyMIDI\u001b[0m\u001b[0;34m(\u001b[0m\u001b[0mmidifile\u001b[0m\u001b[0;34m)\u001b[0m\u001b[0;34m\u001b[0m\u001b[0;34m\u001b[0m\u001b[0m\n\u001b[0m\u001b[1;32m      4\u001b[0m \u001b[0;34m\u001b[0m\u001b[0m\n\u001b[1;32m      5\u001b[0m     \u001b[0monsets\u001b[0m \u001b[0;34m=\u001b[0m \u001b[0;34m[\u001b[0m\u001b[0;34m]\u001b[0m\u001b[0;34m\u001b[0m\u001b[0;34m\u001b[0m\u001b[0m\n",
      "\u001b[0;31mNameError\u001b[0m: name 'pretty_midi' is not defined"
     ]
    }
   ],
   "source": [
    "# Quartet A tenor (T1) and alto (A1)\n",
    "\n",
    "alto = '_A1_DYN'\n",
    "tenor = '_T1_DYN'\n",
    "basename = 'DLI_QuartetA_Take'\n",
    "pitch_path = '../../pitch/pYIN/constant_timebase'\n",
    "midi_path = '../../data'\n",
    " \n",
    "for i in range(6):\n",
    "    \n",
    "    alto_fn = '{}{}{}.csv'.format(basename, i+1, alto)\n",
    "    tenor_fn = '{}{}{}.csv'.format(basename, i+1, tenor)\n",
    "    \n",
    "    alto_pitch = np.array(pd.read_csv(os.path.join(pitch_path, alto_fn), header=None))[:, 1:]\n",
    "    tenor_pitch = np.array(pd.read_csv(os.path.join(pitch_path, tenor_fn), header=None))[:, 1:]\n",
    "    \n",
    "    alto_on, alto_off, _, alto_midi = get_info_from_midi(\n",
    "        os.path.join(midi_path, '{}{}{}.mid'.format(basename, i+1, '_A1')))\n",
    "    \n",
    "    tenor_on, tenor_off, _, tenor_midi = get_info_from_midi(\n",
    "        os.path.join(midi_path, '{}{}{}.mid'.format(basename, i+1, '_T1')))\n",
    "    \n",
    "    \n",
    "'''Plotting pitch curves to make sure data is correct\n",
    "\n",
    "    plt.figure(figsize=(20,10))\n",
    "    plt.subplot(211), plt.plot(alto_pitch[:, 0], alto_pitch[:, 1], '.r', markersize=10)\n",
    "    plt.subplot(212), plt.plot(tenor_pitch[:, 0], tenor_pitch[:, 1], '.g', markersize=10)\n",
    "    \n",
    "    \n",
    "    plt.tight_layout()\n",
    "    plt.show()\n",
    "\n",
    "'''    \n",
    "\n"
   ]
  }
 ],
 "metadata": {
  "kernelspec": {
   "display_name": "Python 3",
   "language": "python",
   "name": "python3"
  },
  "language_info": {
   "codemirror_mode": {
    "name": "ipython",
    "version": 3
   },
   "file_extension": ".py",
   "mimetype": "text/x-python",
   "name": "python",
   "nbconvert_exporter": "python",
   "pygments_lexer": "ipython3",
   "version": "3.6.8"
  }
 },
 "nbformat": 4,
 "nbformat_minor": 2
}
