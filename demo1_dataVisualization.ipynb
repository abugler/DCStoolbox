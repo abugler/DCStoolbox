{
 "cells": [
  {
   "cell_type": "markdown",
   "metadata": {},
   "source": [
    "# Dagstuhl Choir Set: Parsing and Visualization Demo"
   ]
  },
  {
   "cell_type": "markdown",
   "metadata": {},
   "source": [
    "### Table of Contents\n",
    "1. [DCS Content Parser](#one)\n",
    "2. [Multitrack Audio Playback](#two)\n",
    "3. [Beat Annotations](#three)\n",
    "4. [Time-Aligned Score Representation](#four)\n",
    "5. [Fundamental Frequency Trajectories](#five)"
   ]
  },
  {
   "cell_type": "code",
   "execution_count": null,
   "metadata": {},
   "outputs": [],
   "source": [
    "import numpy as np\n",
    "import matplotlib.pyplot as plt\n",
    "from pywebaudioplayer import pywebaudioplayer as pwa\n",
    "import IPython.display as ipd\n",
    "import pandas as pd\n",
    "import librosa\n",
    "import pretty_midi\n",
    "\n",
    "import choirset_toolbox as ct"
   ]
  },
  {
   "cell_type": "markdown",
   "metadata": {},
   "source": [
    "### 1. DCS Content Parser <a class=\"anchor\" id=\"one\"></a>"
   ]
  },
  {
   "cell_type": "code",
   "execution_count": null,
   "metadata": {},
   "outputs": [],
   "source": [
    "# Settings\n",
    "DCS_path = '../../data/2019_DagstuhlRecording/Dagstuhl Dataset/'\n",
    "song_id = 'DLI'\n",
    "setting = 'QuartetA'\n",
    "take = 'Take4'\n",
    "part = '*'\n",
    "mic = '*'\n",
    "\n",
    "# generate table of available audio and annotation files\n",
    "DCS_table = ct.DCS_content_parser(DCS_path, song_id, setting, take, part, mic)\n",
    "DCS_table"
   ]
  },
  {
   "cell_type": "markdown",
   "metadata": {},
   "source": [
    "### 2. Multitrack Audio Playback<a class=\"anchor\" id=\"two\"></a>"
   ]
  },
  {
   "cell_type": "code",
   "execution_count": null,
   "metadata": {},
   "outputs": [],
   "source": [
    "# using pywebaudioplayer by Johan Pauwels\n",
    "tracks = []\n",
    "for i in range(DCS_table.shape[0]):\n",
    "    tracks.append({'title': '%s (%s)' %(DCS_table.iloc[i]['Section'], DCS_table.iloc[i]['Microphone']), \n",
    "                   'path': DCS_table.iloc[i]['Audio'], 'mimetype': 'audio/wav'})\n",
    "    \n",
    "# Display trackswitch.js (Please re-execute cell if JavaScript error message is shown)\n",
    "ts1 = pwa.trackswitch(tracks, repeat=False, globalsolo=False, onlyradiosolo=True)\n",
    "ipd.HTML(ts1)"
   ]
  },
  {
   "cell_type": "markdown",
   "metadata": {},
   "source": [
    "### 3. Beat Annotations<a class=\"anchor\" id=\"three\"></a>"
   ]
  },
  {
   "cell_type": "code",
   "execution_count": null,
   "metadata": {},
   "outputs": [],
   "source": [
    "fn_beat = DCS_table.iloc[1, :]['BeatAnnotation']\n",
    "beat_anno = ct.read_csv(fn_beat, header=None, names=['Time (sec)', 'Measure.RelativeBeatPosition'])\n",
    "beat_anno"
   ]
  },
  {
   "cell_type": "markdown",
   "metadata": {},
   "source": [
    "The last row of the beat annotation includes the end of the audio file in seconds and the end of the last measure encoded as .999."
   ]
  },
  {
   "cell_type": "code",
   "execution_count": null,
   "metadata": {},
   "outputs": [],
   "source": [
    "# sonify beat annotation using librosa\n",
    "fn_mix = DCS_table.iloc[1, :]['Audio']\n",
    "x_mix, Fs = librosa.load(fn_mix)\n",
    "beat_soni = librosa.clicks(beat_anno.iloc[:, 0].values, sr=Fs, click_freq=1000, length=len(x_mix))\n",
    "ipd.Audio(x_mix+beat_soni, rate=Fs)"
   ]
  },
  {
   "cell_type": "markdown",
   "metadata": {},
   "source": [
    "### 4. Time-Aligned Score Representation<a class=\"anchor\" id=\"four\"></a>"
   ]
  },
  {
   "cell_type": "code",
   "execution_count": null,
   "metadata": {},
   "outputs": [],
   "source": [
    "# to be replaced by real link...\n",
    "# MIDI files or CSVs?\n",
    "fn_midi = '../../data/2019_DagstuhlRecording/Dagstuhl Dataset/Annotations/SheetMusic_aligned_AudioLabsBeats/Bruckner_WAB023_BrianMarble-CPDL_warpedTo_DLI_QuartetA_Take4_Stereo_STM.mid'\n",
    "\n",
    "patt = pretty_midi.PrettyMIDI(fn_midi)\n",
    "headers = ['Onset (sec)', 'Offset (sec)', 'MIDIPitch']\n",
    "sop_midi = pd.DataFrame(columns=headers)\n",
    "alt_midi = pd.DataFrame(columns=headers)\n",
    "ten_midi = pd.DataFrame(columns=headers)\n",
    "bas_midi = pd.DataFrame(columns=headers)\n",
    "\n",
    "for note in patt.instruments[0].notes:\n",
    "    sop_midi = sop_midi.append(pd.Series([note.start, note.end, note.pitch], index=sop_midi.columns), ignore_index=True)\n",
    "for note in patt.instruments[1].notes:\n",
    "    alt_midi = alt_midi.append(pd.Series([note.start, note.end, note.pitch], index=alt_midi.columns), ignore_index=True)\n",
    "for note in patt.instruments[2].notes:\n",
    "    ten_midi = ten_midi.append(pd.Series([note.start, note.end, note.pitch], index=ten_midi.columns), ignore_index=True)\n",
    "for note in patt.instruments[3].notes:\n",
    "    bas_midi = bas_midi.append(pd.Series([note.start, note.end, note.pitch], index=bas_midi.columns), ignore_index=True)\n",
    "    \n",
    "bas_midi    "
   ]
  },
  {
   "cell_type": "code",
   "execution_count": null,
   "metadata": {},
   "outputs": [],
   "source": [
    "# MIDI stereo sonification\n",
    "ipd.Audio('../../data/2019_DagstuhlRecording/Dagstuhl Dataset/Annotations/SheetMusic_aligned_AudioLabsBeats/DLI_QuartetA_Take4_Stereo_STM_MIDI_soniStereo.wav', rate=Fs)"
   ]
  },
  {
   "cell_type": "markdown",
   "metadata": {},
   "source": [
    "### 5. Fundamental Frequency Trajectories<a class=\"anchor\" id=\"five\"></a>"
   ]
  },
  {
   "cell_type": "code",
   "execution_count": null,
   "metadata": {},
   "outputs": [],
   "source": [
    "fn_f0 = DCS_table.iloc[4, :]['F0CREPE']\n",
    "f0 = ct.read_csv(fn_f0, header=None, names=['Time (sec)', 'F0 (Hz)', 'Confidence'])\n",
    "f0"
   ]
  },
  {
   "cell_type": "code",
   "execution_count": null,
   "metadata": {},
   "outputs": [],
   "source": [
    "# stereo sonification\n",
    "x_lrx, Fs = librosa.load(DCS_table.iloc[4, :]['Audio'])\n",
    "x_f0 = ct.sonify_trajectory_with_sinusoid(f0.iloc[:, 0:2].values, len(x_lrx), Fs=Fs, amplitude=0.3, smooth_len=11)\n",
    "x_soni_stereo = np.vstack((x_lrx.reshape(1,-1), x_f0.reshape(1,-1)))\n",
    "ipd.Audio(x_soni_stereo, rate=Fs)"
   ]
  },
  {
   "cell_type": "code",
   "execution_count": null,
   "metadata": {},
   "outputs": [],
   "source": []
  }
 ],
 "metadata": {
  "kernelspec": {
   "display_name": "Python 3",
   "language": "python",
   "name": "python3"
  },
  "language_info": {
   "codemirror_mode": {
    "name": "ipython",
    "version": 3
   },
   "file_extension": ".py",
   "mimetype": "text/x-python",
   "name": "python",
   "nbconvert_exporter": "python",
   "pygments_lexer": "ipython3",
   "version": "3.6.5"
  }
 },
 "nbformat": 4,
 "nbformat_minor": 2
}
