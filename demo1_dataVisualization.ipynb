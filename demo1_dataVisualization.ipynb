{
 "cells": [
  {
   "cell_type": "markdown",
   "metadata": {},
   "source": [
    "# Dagstuhl Choir Set: Parsing and Visualization"
   ]
  },
  {
   "cell_type": "code",
   "execution_count": null,
   "metadata": {},
   "outputs": [],
   "source": [
    "import numpy as np\n",
    "import matplotlib.pyplot as plt\n",
    "from pywebaudioplayer import pywebaudioplayer as pwa\n",
    "import IPython.display as ipd\n",
    "\n",
    "import choirset_toolbox as ct"
   ]
  },
  {
   "cell_type": "markdown",
   "metadata": {},
   "source": [
    "### Select Recording"
   ]
  },
  {
   "cell_type": "code",
   "execution_count": null,
   "metadata": {},
   "outputs": [],
   "source": [
    "# Settings\n",
    "DCS_path = '../../data/2019_DagstuhlRecording/Dagstuhl Dataset/'\n",
    "song_id = 'DLI'\n",
    "setting = 'QuartetA'\n",
    "take = 'Take4'\n",
    "part = '*'\n",
    "mic = '*'\n",
    "\n",
    "# generate table of available audio and annotation files\n",
    "DCS_table = ct.DCS_content_parser(DCS_path, song_id, setting, take, part, mic)\n",
    "DCS_table"
   ]
  },
  {
   "cell_type": "markdown",
   "metadata": {},
   "source": [
    "### Multitrack Audio"
   ]
  },
  {
   "cell_type": "code",
   "execution_count": null,
   "metadata": {},
   "outputs": [],
   "source": [
    "# using pywebaudioplayer by Johan Pauwels\n",
    "tracks = [{'title': 'Room Mic', 'path': audio_list[0]}]\n",
    "#ipd.Audio(audio_list[0])\n",
    "print(audio_list[0])"
   ]
  },
  {
   "cell_type": "code",
   "execution_count": null,
   "metadata": {},
   "outputs": [],
   "source": [
    "# Display trackswitch.js\n",
    "# Please re-execute if JavaScript error message is shown\n",
    "ts1 = pwa.trackswitch(tracks)\n",
    "ipd.HTML(ts1)"
   ]
  },
  {
   "cell_type": "code",
   "execution_count": null,
   "metadata": {},
   "outputs": [],
   "source": []
  },
  {
   "cell_type": "code",
   "execution_count": null,
   "metadata": {},
   "outputs": [],
   "source": []
  }
 ],
 "metadata": {
  "kernelspec": {
   "display_name": "Python 3",
   "language": "python",
   "name": "python3"
  },
  "language_info": {
   "codemirror_mode": {
    "name": "ipython",
    "version": 3
   },
   "file_extension": ".py",
   "mimetype": "text/x-python",
   "name": "python",
   "nbconvert_exporter": "python",
   "pygments_lexer": "ipython3",
   "version": "3.6.7"
  }
 },
 "nbformat": 4,
 "nbformat_minor": 2
}
