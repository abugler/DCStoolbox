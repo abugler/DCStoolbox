{
 "cells": [
  {
   "cell_type": "markdown",
   "metadata": {},
   "source": [
    "# Dagstuhl ChoirSet: Parsing and Visualization Demo"
   ]
  },
  {
   "cell_type": "markdown",
   "metadata": {},
   "source": [
    "### Table of Contents\n",
    "1. [DCS Content Parser](#one)\n",
    "2. [Multitrack Audio Playback](#two)\n",
    "3. [Beat Annotations](#three)\n",
    "4. [Time-Aligned Score Representation](#four)\n",
    "5. [Fundamental Frequency Trajectories](#five)"
   ]
  },
  {
   "cell_type": "code",
   "execution_count": 1,
   "metadata": {},
   "outputs": [],
   "source": [
    "import numpy as np\n",
    "import matplotlib.pyplot as plt\n",
    "from pywebaudioplayer import pywebaudioplayer as pwa\n",
    "import IPython.display as ipd\n",
    "import pandas as pd\n",
    "import librosa\n",
    "import pretty_midi\n",
    "\n",
    "import os\n",
    "import glob\n",
    "\n",
    "import DCStoolbox as dcst"
   ]
  },
  {
   "cell_type": "markdown",
   "metadata": {},
   "source": [
    "### 1. DCS Content Parser <a class=\"anchor\" id=\"one\"></a>"
   ]
  },
  {
   "cell_type": "code",
   "execution_count": 2,
   "metadata": {},
   "outputs": [
    {
     "ename": "Error",
     "evalue": "Invalid path to Dagstuhl Choir Set!",
     "output_type": "error",
     "traceback": [
      "\u001b[0;31m---------------------------------------------------------------------------\u001b[0m",
      "\u001b[0;31mError\u001b[0m                                     Traceback (most recent call last)",
      "\u001b[0;32m<ipython-input-2-1ba688d4efad>\u001b[0m in \u001b[0;36m<module>\u001b[0;34m\u001b[0m\n\u001b[1;32m      8\u001b[0m \u001b[0;34m\u001b[0m\u001b[0m\n\u001b[1;32m      9\u001b[0m \u001b[0;31m# generate table of available audio and annotation files\u001b[0m\u001b[0;34m\u001b[0m\u001b[0;34m\u001b[0m\u001b[0;34m\u001b[0m\u001b[0m\n\u001b[0;32m---> 10\u001b[0;31m \u001b[0mDCS_table\u001b[0m \u001b[0;34m=\u001b[0m \u001b[0mdcst\u001b[0m\u001b[0;34m.\u001b[0m\u001b[0mDCS_content_parser\u001b[0m\u001b[0;34m(\u001b[0m\u001b[0mDCS_path\u001b[0m\u001b[0;34m,\u001b[0m \u001b[0msong_id\u001b[0m\u001b[0;34m,\u001b[0m \u001b[0msetting\u001b[0m\u001b[0;34m,\u001b[0m \u001b[0mtake\u001b[0m\u001b[0;34m,\u001b[0m \u001b[0mpart\u001b[0m\u001b[0;34m,\u001b[0m \u001b[0mmic\u001b[0m\u001b[0;34m)\u001b[0m\u001b[0;34m\u001b[0m\u001b[0;34m\u001b[0m\u001b[0m\n\u001b[0m\u001b[1;32m     11\u001b[0m \u001b[0mDCS_table\u001b[0m\u001b[0;34m\u001b[0m\u001b[0;34m\u001b[0m\u001b[0m\n",
      "\u001b[0;32m~/Desktop/MTG/Dagstuhl/ChoirSet-Toolbox/DCStoolbox/main.py\u001b[0m in \u001b[0;36mDCS_content_parser\u001b[0;34m(DCS_path, song_id, setting, take, section, mic)\u001b[0m\n\u001b[1;32m     32\u001b[0m     \u001b[0;31m# check validity of input arguments\u001b[0m\u001b[0;34m\u001b[0m\u001b[0;34m\u001b[0m\u001b[0;34m\u001b[0m\u001b[0m\n\u001b[1;32m     33\u001b[0m     \u001b[0;32mif\u001b[0m \u001b[0;32mnot\u001b[0m \u001b[0mos\u001b[0m\u001b[0;34m.\u001b[0m\u001b[0mpath\u001b[0m\u001b[0;34m.\u001b[0m\u001b[0mexists\u001b[0m\u001b[0;34m(\u001b[0m\u001b[0mDCS_path\u001b[0m\u001b[0;34m)\u001b[0m\u001b[0;34m:\u001b[0m\u001b[0;34m\u001b[0m\u001b[0;34m\u001b[0m\u001b[0m\n\u001b[0;32m---> 34\u001b[0;31m         \u001b[0;32mraise\u001b[0m \u001b[0mError\u001b[0m\u001b[0;34m(\u001b[0m\u001b[0;34m'Invalid path to Dagstuhl Choir Set!'\u001b[0m\u001b[0;34m)\u001b[0m\u001b[0;34m\u001b[0m\u001b[0;34m\u001b[0m\u001b[0m\n\u001b[0m\u001b[1;32m     35\u001b[0m \u001b[0;34m\u001b[0m\u001b[0m\n\u001b[1;32m     36\u001b[0m     \u001b[0;32mif\u001b[0m \u001b[0msong_id\u001b[0m \u001b[0;32mnot\u001b[0m \u001b[0;32min\u001b[0m \u001b[0;34m[\u001b[0m\u001b[0;34m'*'\u001b[0m\u001b[0;34m,\u001b[0m \u001b[0;34m'DCS_LI'\u001b[0m\u001b[0;34m,\u001b[0m \u001b[0;34m'DCS_TP'\u001b[0m\u001b[0;34m,\u001b[0m \u001b[0;34m'DCS_SE'\u001b[0m\u001b[0;34m]\u001b[0m\u001b[0;34m:\u001b[0m\u001b[0;34m\u001b[0m\u001b[0;34m\u001b[0m\u001b[0m\n",
      "\u001b[0;31mError\u001b[0m: Invalid path to Dagstuhl Choir Set!"
     ]
    }
   ],
   "source": [
    "# Settings\n",
    "DCS_path = './DagstuhlChoirSet_V1.0/'\n",
    "song_id = 'DCS_LI'\n",
    "setting = 'QuartetA'\n",
    "take = 'Take04'\n",
    "part = '*'\n",
    "mic = '*'\n",
    "\n",
    "# generate table of available audio and annotation files\n",
    "DCS_table = dcst.DCS_content_parser(DCS_path, song_id, setting, take, part, mic)\n",
    "DCS_table"
   ]
  },
  {
   "cell_type": "markdown",
   "metadata": {},
   "source": [
    "### 2. Multitrack Audio Playback<a class=\"anchor\" id=\"two\"></a>"
   ]
  },
  {
   "cell_type": "markdown",
   "metadata": {},
   "source": [
    "**---This player is only supported in Google Chrome---**"
   ]
  },
  {
   "cell_type": "code",
   "execution_count": null,
   "metadata": {},
   "outputs": [],
   "source": [
    "# using pywebaudioplayer by Johan Pauwels\n",
    "tracks = []\n",
    "for i in range(DCS_table.shape[0]):\n",
    "    tracks.append({'title': '%s (%s)' %(DCS_table.iloc[i]['Section'], DCS_table.iloc[i]['Microphone']), \n",
    "                   'path': DCS_table.iloc[i]['Audio'][2:], 'mimetype': 'audio/wav'})\n",
    "    \n",
    "# Display trackswitch.js\n",
    "ts1 = pwa.trackswitch(tracks, repeat=False, globalsolo=False, onlyradiosolo=True)\n",
    "ipd.HTML(ts1)"
   ]
  },
  {
   "cell_type": "markdown",
   "metadata": {},
   "source": [
    "### 3. Beat Annotations<a class=\"anchor\" id=\"three\"></a>"
   ]
  },
  {
   "cell_type": "code",
   "execution_count": null,
   "metadata": {},
   "outputs": [],
   "source": [
    "fn_beat = DCS_table.iloc[1, :]['Beat']\n",
    "beat_anno = dcst.read_csv(fn_beat, header=None, names=['Time (sec)', 'Measure.RelativeBeatPosition'])\n",
    "beat_anno"
   ]
  },
  {
   "cell_type": "markdown",
   "metadata": {},
   "source": [
    "The last row of the beat annotation includes the end of the audio file in seconds and the end of the last measure encoded as .999."
   ]
  },
  {
   "cell_type": "code",
   "execution_count": null,
   "metadata": {},
   "outputs": [],
   "source": [
    "# sonify beat annotation using librosa\n",
    "fn_mix = DCS_table.iloc[1, :]['Audio']\n",
    "x_mix, Fs = librosa.load(fn_mix)\n",
    "beat_soni = librosa.clicks(beat_anno.iloc[:, 0].values, sr=Fs, click_freq=1000, length=len(x_mix))\n",
    "ipd.Audio(x_mix+beat_soni, rate=Fs)"
   ]
  },
  {
   "cell_type": "markdown",
   "metadata": {},
   "source": [
    "### 4. Time-Aligned Score Representation<a class=\"anchor\" id=\"four\"></a>"
   ]
  },
  {
   "cell_type": "code",
   "execution_count": null,
   "metadata": {},
   "outputs": [],
   "source": [
    "# load tuple of file names\n",
    "fns_score = DCS_table.iloc[1, :]['ScoreRepr']\n",
    "fns_score"
   ]
  },
  {
   "cell_type": "code",
   "execution_count": null,
   "metadata": {},
   "outputs": [],
   "source": [
    "# score representation for soprano\n",
    "dcst.read_csv(fns_score[0], header=None, names=['Onset (sec)', 'Offset (sec)', 'MIDIPitch'])"
   ]
  },
  {
   "cell_type": "code",
   "execution_count": null,
   "metadata": {},
   "outputs": [],
   "source": [
    "# sonify aligned score representation\n",
    "x_soni_score = dcst.sonify_score_representation_with_sinusoidals(fns_score, Fs, len(x_mix))\n",
    "ipd.Audio(np.vstack((x_mix.reshape(1, -1), x_soni_score.reshape(1, -1))), rate=Fs)"
   ]
  },
  {
   "cell_type": "markdown",
   "metadata": {},
   "source": [
    "### 5. Fundamental Frequency Trajectories<a class=\"anchor\" id=\"five\"></a>"
   ]
  },
  {
   "cell_type": "code",
   "execution_count": null,
   "metadata": {},
   "outputs": [],
   "source": [
    "fn_f0 = DCS_table.iloc[4, :]['F0CREPE']\n",
    "f0 = dcst.read_csv(fn_f0, header=None, names=['Time (sec)', 'F0 (Hz)', 'Confidence'])\n",
    "f0"
   ]
  },
  {
   "cell_type": "code",
   "execution_count": null,
   "metadata": {},
   "outputs": [],
   "source": [
    "# stereo sonification\n",
    "x_lrx, Fs = librosa.load(DCS_table.iloc[4, :]['Audio'])\n",
    "x_f0 = dcst.sonify_trajectory_with_sinusoid(f0.iloc[:, 0:2].values, len(x_lrx), Fs=Fs, amplitude=0.3, smooth_len=11)\n",
    "x_soni_stereo = np.vstack((x_lrx.reshape(1,-1), x_f0.reshape(1,-1)))\n",
    "ipd.Audio(x_soni_stereo, rate=Fs)"
   ]
  },
  {
   "cell_type": "code",
   "execution_count": null,
   "metadata": {},
   "outputs": [],
   "source": []
  }
 ],
 "metadata": {
  "kernelspec": {
   "display_name": "Python 3",
   "language": "python",
   "name": "python3"
  },
  "language_info": {
   "codemirror_mode": {
    "name": "ipython",
    "version": 3
   },
   "file_extension": ".py",
   "mimetype": "text/x-python",
   "name": "python",
   "nbconvert_exporter": "python",
   "pygments_lexer": "ipython3",
   "version": "3.6.8"
  }
 },
 "nbformat": 4,
 "nbformat_minor": 2
}
