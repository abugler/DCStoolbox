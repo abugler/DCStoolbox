{
 "cells": [
  {
   "cell_type": "code",
   "execution_count": null,
   "metadata": {},
   "outputs": [],
   "source": [
    "import numpy as np\n",
    "import pandas as pd\n",
    "import matplotlib.pyplot as plt\n",
    "import pretty_midi\n",
    "import librosa"
   ]
  },
  {
   "cell_type": "code",
   "execution_count": null,
   "metadata": {},
   "outputs": [],
   "source": [
    "f0_path = '../../data/2019_DagstuhlRecording/Dagstuhl Dataset/Annotations/DLI_QuartetB_Take4_PYIN/'\n",
    "sop_path = f0_path + 'DLI_QuartetB_Take4_S1_LRX_vamp_pyin_pyin_smoothedpitchtrack.csv'\n",
    "alt_path = f0_path + 'DLI_QuartetB_Take4_A2_LRX_vamp_pyin_pyin_smoothedpitchtrack.csv'\n",
    "ten_path = f0_path + 'DLI_QuartetB_Take4_T2_LRX_vamp_pyin_pyin_smoothedpitchtrack.csv'\n",
    "bas_path = f0_path + 'DLI_QuartetB_Take4_B2_LRX_vamp_pyin_pyin_smoothedpitchtrack.csv'\n",
    "\n",
    "midi_path = '../../data/2019_DagstuhlRecording/Dagstuhl Dataset/Annotations/SheetMusic_aligned_AudioLabsBeats/Bruckner_WAB023_BrianMarble-CPDL_warpedTo_DLI_QuartetB_Take4_Stereo_STM.mid'"
   ]
  },
  {
   "cell_type": "code",
   "execution_count": null,
   "metadata": {},
   "outputs": [],
   "source": [
    "# load files\n",
    "sop = pd.read_csv(sop_path, header=None).values\n",
    "alt = pd.read_csv(alt_path, header=None).values\n",
    "ten = pd.read_csv(ten_path, header=None).values\n",
    "bas = pd.read_csv(bas_path, header=None).values\n",
    "\n",
    "# get onset, offset, MIDI center frequency from aligned MIDI file\n",
    "patt = pretty_midi.PrettyMIDI(midi_path)\n",
    "sop_MIDI = np.empty((0, 3))\n",
    "alt_MIDI = np.empty((0, 3))\n",
    "ten_MIDI = np.empty((0, 3))\n",
    "bas_MIDI = np.empty((0, 3))\n",
    "\n",
    "for note in patt.instruments[0].notes:\n",
    "    sop_MIDI = np.vstack((sop_MIDI, (note.start, note.end, 440*2**((note.pitch-69)/12))))\n",
    "for note in patt.instruments[1].notes:\n",
    "    alt_MIDI = np.vstack((alt_MIDI, (note.start, note.end, 440*2**((note.pitch-69)/12))))\n",
    "for note in patt.instruments[2].notes:\n",
    "    ten_MIDI = np.vstack((ten_MIDI, (note.start, note.end, 440*2**((note.pitch-69)/12))))\n",
    "for note in patt.instruments[3].notes:\n",
    "    bas_MIDI = np.vstack((bas_MIDI, (note.start, note.end, 440*2**((note.pitch-69)/12))))"
   ]
  },
  {
   "cell_type": "code",
   "execution_count": null,
   "metadata": {},
   "outputs": [],
   "source": [
    "# visualize trajectories\n",
    "#%matplotlib notebook\n",
    "plt.figure()\n",
    "plt.plot(sop[:, 0], sop[:, 1], marker='.', linestyle='')\n",
    "plt.plot(alt[:, 0], alt[:, 1], marker='.', linestyle='')\n",
    "plt.plot(ten[:, 0], ten[:, 1], marker='.', linestyle='')\n",
    "plt.plot(bas[:, 0], bas[:, 1], marker='.', linestyle='')\n",
    "plt.ylim((0, 800))\n"
   ]
  },
  {
   "cell_type": "code",
   "execution_count": null,
   "metadata": {},
   "outputs": [],
   "source": [
    "def compute_notewise_f0_mean(contour, MIDI_info):\n",
    "    notewise_mean = np.zeros(contour.shape)\n",
    "    notewise_mean[:, 0] = contour[:, 0]\n",
    "    \n",
    "    contour_MIDI = np.zeros(contour.shape)\n",
    "    contour_MIDI[:, 0] = contour[:, 0]\n",
    "    \n",
    "    for i in range(MIDI_info.shape[0]):\n",
    "        # get indices of trajectory\n",
    "        t_start_idx = np.argmin(np.abs(contour[:, 0] - MIDI_info[i, 0]))\n",
    "        t_end_idx = np.argmin(np.abs(contour[:, 0] - MIDI_info[i, 1]))\n",
    "        \n",
    "        note_len_idx = t_end_idx - t_start_idx\n",
    "        notewise_mean[t_start_idx:t_end_idx, 1] = [np.mean(contour[t_start_idx:t_end_idx, 1])]*note_len_idx\n",
    "        contour_MIDI[t_start_idx:t_end_idx, 1] = [MIDI_info[i, 2]]*note_len_idx\n",
    "    \n",
    "    notewise_mean[notewise_mean[:, 1] == 0, 1] = np.nan\n",
    "    contour_MIDI[contour_MIDI[:, 1] == 0, 1] = np.nan\n",
    "    \n",
    "    return notewise_mean, contour_MIDI"
   ]
  },
  {
   "cell_type": "code",
   "execution_count": null,
   "metadata": {},
   "outputs": [],
   "source": [
    "# get mean of trajectories in note regions\n",
    "sop_mean, sop_MIDI_c = compute_notewise_f0_mean(np.abs(sop), sop_MIDI)\n",
    "alt_mean, alt_MIDI_c = compute_notewise_f0_mean(np.abs(alt), alt_MIDI)\n",
    "ten_mean, ten_MIDI_c = compute_notewise_f0_mean(np.abs(ten), ten_MIDI)\n",
    "bas_mean, bas_MIDI_c = compute_notewise_f0_mean(np.abs(bas), bas_MIDI)"
   ]
  },
  {
   "cell_type": "code",
   "execution_count": null,
   "metadata": {},
   "outputs": [],
   "source": [
    "plt.figure()\n",
    "plt.plot(sop_MIDI_c[:, 0], sop_MIDI_c[:, 1], color='k', marker='.', linestyle='')\n",
    "plt.plot(sop_MIDI_c[:, 0], alt_MIDI_c[:, 1], color='k', marker='.', linestyle='')\n",
    "plt.plot(sop_MIDI_c[:, 0], ten_MIDI_c[:, 1], color='k', marker='.', linestyle='')\n",
    "plt.plot(sop_MIDI_c[:, 0], bas_MIDI_c[:, 1], color='k', marker='.', linestyle='')\n",
    "\n",
    "plt.plot(sop[:, 0], np.abs(sop[:, 1]), marker='.', linestyle='')\n",
    "plt.plot(alt[:, 0], np.abs(alt[:, 1]), marker='.', linestyle='')\n",
    "plt.plot(ten[:, 0], np.abs(ten[:, 1]), marker='.', linestyle='')\n",
    "plt.plot(bas[:, 0], np.abs(bas[:, 1]), marker='.', linestyle='')\n",
    "plt.ylim((0, 800))"
   ]
  },
  {
   "cell_type": "code",
   "execution_count": null,
   "metadata": {},
   "outputs": [],
   "source": [
    "# compute deviation between score and mean f0\n",
    "sop_dev = 1200*np.log2(sop_mean[:, 1] / sop_MIDI_c[:, 1])\n",
    "alt_dev = 1200*np.log2(alt_mean[:, 1] / alt_MIDI_c[:, 1]) \n",
    "ten_dev = 1200*np.log2(ten_mean[:, 1] / ten_MIDI_c[:, 1]) \n",
    "bas_dev = 1200*np.log2(bas_mean[:, 1] / bas_MIDI_c[:, 1])"
   ]
  },
  {
   "cell_type": "code",
   "execution_count": null,
   "metadata": {},
   "outputs": [],
   "source": [
    "# visualize mean\n",
    "sop_act = np.isnan(sop_MIDI_c[:, 1])*1\n",
    "alt_act = np.isnan(alt_MIDI_c[:, 1])*1\n",
    "ten_act = np.isnan(ten_MIDI_c[:, 1])*1\n",
    "bas_act = np.isnan(bas_MIDI_c[:, 1])*1\n",
    "mean_dev = (sop_dev + alt_dev + ten_dev + bas_dev)/ (sop_act + alt_act + ten_act + bas_act)\n",
    "print(mean_dev)"
   ]
  },
  {
   "cell_type": "code",
   "execution_count": null,
   "metadata": {},
   "outputs": [],
   "source": [
    "# visualize individual voices\n",
    "#%matplotlib notebook\n",
    "\n",
    "fig = plt.figure(figsize=(12, 7))\n",
    "plt.axhline(y=0, color='k')\n",
    "#plt.plot(sop_mean[:, 0], mean_dev, color='k', marker='.', linestyle='')\n",
    "plt.plot(sop_mean[:, 0], sop_dev, marker='.', linestyle='')\n",
    "plt.plot(alt_mean[:, 0], alt_dev, marker='.', linestyle='')\n",
    "plt.plot(ten_mean[:, 0], ten_dev, marker='.', linestyle='')\n",
    "plt.plot(bas_mean[:, 0], bas_dev, marker='.', linestyle='')\n",
    "plt.ylim((-500, 200))\n",
    "plt.legend(('', 'Soprano', 'Alto', 'Tenor', 'Bass'))"
   ]
  },
  {
   "cell_type": "code",
   "execution_count": null,
   "metadata": {},
   "outputs": [],
   "source": [
    "import pywebaudioplayer as pwa\n",
    "import IPython.display\n",
    "import os\n",
    "\n",
    "# temporary paths\n",
    "temp_audio_path = './player.wav'\n",
    "temp_figure_path = './player.png'\n",
    "\n",
    "# delete existing files\n",
    "if os.path.isfile(temp_audio_path):\n",
    "    os.remove(temp_audio_path)\n",
    "if os.path.isfile(temp_figure_path):\n",
    "    os.remove(temp_figure_path)\n",
    "\n",
    "x, fs = librosa.load('../../data/2019_DagstuhlRecording/Dagstuhl Dataset/Audio/norm-downsampled/DLI_QuartetB_Take4_Stereo_STM.wav')\n",
    "ts2 = pwa.trackswitch([{'title': 'Audio', 'samples': (x, fs), 'path': temp_audio_path}], seekable_image=(fig, './player.png'), repeat=True)\n",
    "IPython.display.HTML(ts2)"
   ]
  },
  {
   "cell_type": "code",
   "execution_count": null,
   "metadata": {},
   "outputs": [],
   "source": [
    "from IPython.display import HTML\n",
    "\n",
    "HTML(filename=\"./player.html\")"
   ]
  },
  {
   "cell_type": "code",
   "execution_count": null,
   "metadata": {},
   "outputs": [],
   "source": []
  },
  {
   "cell_type": "code",
   "execution_count": null,
   "metadata": {},
   "outputs": [],
   "source": []
  }
 ],
 "metadata": {
  "kernelspec": {
   "display_name": "Python 3",
   "language": "python",
   "name": "python3"
  },
  "language_info": {
   "codemirror_mode": {
    "name": "ipython",
    "version": 3
   },
   "file_extension": ".py",
   "mimetype": "text/x-python",
   "name": "python",
   "nbconvert_exporter": "python",
   "pygments_lexer": "ipython3",
   "version": "3.6.7"
  }
 },
 "nbformat": 4,
 "nbformat_minor": 2
}
