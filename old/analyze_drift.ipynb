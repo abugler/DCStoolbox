{
 "cells": [
  {
   "cell_type": "code",
   "execution_count": null,
   "metadata": {},
   "outputs": [],
   "source": [
    "import numpy as np\n",
    "import pandas as pd\n",
    "import matplotlib.pyplot as plt\n",
    "import pretty_midi\n",
    "import librosa\n",
    "import copy"
   ]
  },
  {
   "cell_type": "code",
   "execution_count": null,
   "metadata": {},
   "outputs": [],
   "source": [
    "f0_path = '../../../../Google Drive/Dagstuhl Dataset/Annotations/DLI_QuartetB_Take4_PYIN/'\n",
    "sop_path = f0_path + 'DLI_QuartetB_Take4_S1_LRX_vamp_pyin_pyin_smoothedpitchtrack.csv'\n",
    "alt_path = f0_path + 'DLI_QuartetB_Take4_A2_LRX_vamp_pyin_pyin_smoothedpitchtrack.csv'\n",
    "ten_path = f0_path + 'DLI_QuartetB_Take4_T2_LRX_vamp_pyin_pyin_smoothedpitchtrack.csv'\n",
    "bas_path = f0_path + 'DLI_QuartetB_Take4_B2_LRX_vamp_pyin_pyin_smoothedpitchtrack.csv'\n",
    "\n",
    "midi_path = '../../../../Google Drive/Dagstuhl Dataset/Annotations/SheetMusic_aligned_AudioLabsBeats/Bruckner_WAB023_BrianMarble-CPDL_warpedTo_DLI_QuartetB_Take4_Stereo_STM.mid'"
   ]
  },
  {
   "cell_type": "code",
   "execution_count": null,
   "metadata": {},
   "outputs": [],
   "source": [
    "# load files\n",
    "sop = pd.read_csv(sop_path, header=None).values\n",
    "alt = pd.read_csv(alt_path, header=None).values\n",
    "ten = pd.read_csv(ten_path, header=None).values\n",
    "bas = pd.read_csv(bas_path, header=None).values\n",
    "\n",
    "sop[sop[:, 1] < 0, 1] = 0\n",
    "alt[alt[:, 1] < 0, 1] = 0\n",
    "ten[ten[:, 1] < 0, 1] = 0\n",
    "bas[bas[:, 1] < 0, 1] = 0\n",
    "\n",
    "# get onset, offset, MIDI center frequency from aligned MIDI file\n",
    "patt = pretty_midi.PrettyMIDI(midi_path)\n",
    "sop_MIDI = np.empty((0, 3))\n",
    "alt_MIDI = np.empty((0, 3))\n",
    "ten_MIDI = np.empty((0, 3))\n",
    "bas_MIDI = np.empty((0, 3))\n",
    "\n",
    "for note in patt.instruments[0].notes:\n",
    "    sop_MIDI = np.vstack((sop_MIDI, (note.start, note.end, 440*2**((note.pitch-69)/12))))\n",
    "for note in patt.instruments[1].notes:\n",
    "    alt_MIDI = np.vstack((alt_MIDI, (note.start, note.end, 440*2**((note.pitch-69)/12))))\n",
    "for note in patt.instruments[2].notes:\n",
    "    ten_MIDI = np.vstack((ten_MIDI, (note.start, note.end, 440*2**((note.pitch-69)/12))))\n",
    "for note in patt.instruments[3].notes:\n",
    "    bas_MIDI = np.vstack((bas_MIDI, (note.start, note.end, 440*2**((note.pitch-69)/12))))"
   ]
  },
  {
   "cell_type": "code",
   "execution_count": null,
   "metadata": {},
   "outputs": [],
   "source": [
    "# visualize trajectories\n",
    "%matplotlib notebook\n",
    "plt.figure()\n",
    "plt.plot(sop[:, 0], sop[:, 1], marker='.', linestyle='')\n",
    "plt.plot(alt[:, 0], alt[:, 1], marker='.', linestyle='')\n",
    "plt.plot(ten[:, 0], ten[:, 1], marker='.', linestyle='')\n",
    "plt.plot(bas[:, 0], bas[:, 1], marker='.', linestyle='')\n",
    "plt.ylim((0, 800))\n"
   ]
  },
  {
   "cell_type": "code",
   "execution_count": null,
   "metadata": {},
   "outputs": [],
   "source": [
    "def midi_to_trajectory(MIDI_info, t_axis):\n",
    "    traj = np.hstack((t_axis.reshape(-1, 1), np.zeros(len(t_axis)).reshape(-1,1)))\n",
    "    \n",
    "    for i in range(MIDI_info.shape[0]):\n",
    "        # get indices of trajectory\n",
    "        t_start_idx = np.argmin(np.abs(t_axis - MIDI_info[i, 0]))\n",
    "        t_end_idx = np.argmin(np.abs(t_axis - MIDI_info[i, 1]))\n",
    "        \n",
    "        note_len_idx = t_end_idx - t_start_idx\n",
    "        traj[t_start_idx:t_end_idx, 1] = [MIDI_info[i, 2]]*note_len_idx\n",
    "    \n",
    "    return traj\n",
    "\n",
    "def compute_notewise_mean_median(MIDI_info, traj):\n",
    "    nw_mean = np.hstack((MIDI_info[:, 0:2], np.zeros(MIDI_info.shape[0]).reshape(-1, 1)))\n",
    "    nw_median = np.hstack((MIDI_info[:, 0:2], np.zeros(MIDI_info.shape[0]).reshape(-1, 1)))\n",
    "    \n",
    "    traj_nan = copy.deepcopy(traj)\n",
    "    traj_nan[traj_nan[:, 1] == 0, 1] = np.nan\n",
    "    \n",
    "    for i in range(MIDI_info.shape[0]):\n",
    "        # get indices of trajectory\n",
    "        t_start_idx = np.argmin(np.abs(traj_nan[:, 0] - MIDI_info[i, 0]))\n",
    "        t_end_idx = np.argmin(np.abs(traj_nan[:, 0] - MIDI_info[i, 1]))\n",
    "        \n",
    "        nw_mean[i, 2] = np.nanmean(traj_nan[t_start_idx:t_end_idx, 1])\n",
    "        nw_median[i, 2] = np.nanmedian(traj_nan[t_start_idx:t_end_idx, 1])\n",
    "        \n",
    "    return nw_mean, nw_median"
   ]
  },
  {
   "cell_type": "code",
   "execution_count": null,
   "metadata": {},
   "outputs": [],
   "source": [
    "# get mean of trajectories in note regions\n",
    "traj_MIDI_sop = midi_to_trajectory(sop_MIDI, sop[:, 0])\n",
    "traj_MIDI_alt = midi_to_trajectory(alt_MIDI, alt[:, 0])\n",
    "traj_MIDI_ten = midi_to_trajectory(ten_MIDI, ten[:, 0])\n",
    "traj_MIDI_bas = midi_to_trajectory(bas_MIDI, bas[:, 0])\n",
    "\n",
    "nw_mean_sop, nw_median_sop = compute_notewise_mean_median(sop_MIDI, sop)\n",
    "nw_mean_alt, nw_median_alt = compute_notewise_mean_median(alt_MIDI, alt)\n",
    "nw_mean_ten, nw_median_ten = compute_notewise_mean_median(ten_MIDI, ten)\n",
    "nw_mean_bas, nw_median_bas = compute_notewise_mean_median(bas_MIDI, bas)\n",
    "\n",
    "traj_mean_sop = midi_to_trajectory(nw_mean_sop, sop[:, 0])\n",
    "traj_mean_alt = midi_to_trajectory(nw_mean_alt, alt[:, 0])\n",
    "traj_mean_ten = midi_to_trajectory(nw_mean_ten, ten[:, 0])\n",
    "traj_mean_bas = midi_to_trajectory(nw_mean_bas, bas[:, 0])\n",
    "\n",
    "traj_median_sop = midi_to_trajectory(nw_median_sop, sop[:, 0])\n",
    "traj_median_alt = midi_to_trajectory(nw_median_alt, alt[:, 0])\n",
    "traj_median_ten = midi_to_trajectory(nw_median_ten, ten[:, 0])\n",
    "traj_median_bas = midi_to_trajectory(nw_median_bas, bas[:, 0])"
   ]
  },
  {
   "cell_type": "code",
   "execution_count": null,
   "metadata": {},
   "outputs": [],
   "source": [
    "%matplotlib notebook\n",
    "plt.figure()\n",
    "plt.plot(traj_MIDI_sop[:, 0], traj_MIDI_sop[:, 1], color='k', marker='.', linestyle='')\n",
    "plt.plot(traj_MIDI_alt[:, 0], traj_MIDI_alt[:, 1], color='k', marker='.', linestyle='')\n",
    "plt.plot(traj_MIDI_ten[:, 0], traj_MIDI_ten[:, 1], color='k', marker='.', linestyle='')\n",
    "plt.plot(traj_MIDI_bas[:, 0], traj_MIDI_bas[:, 1], color='k', marker='.', linestyle='')\n",
    "\n",
    "plt.plot(traj_mean_sop[:, 0], traj_median_sop[:, 1], marker='.', linestyle='')\n",
    "plt.plot(traj_mean_alt[:, 0], traj_median_alt[:, 1], marker='.', linestyle='')\n",
    "plt.plot(traj_mean_ten[:, 0], traj_median_ten[:, 1], marker='.', linestyle='')\n",
    "plt.plot(traj_mean_bas[:, 0], traj_median_bas[:, 1], marker='.', linestyle='')\n",
    "#plt.ylim((0, 800))"
   ]
  },
  {
   "cell_type": "code",
   "execution_count": null,
   "metadata": {},
   "outputs": [],
   "source": [
    "# compute deviation between score and mean f0\n",
    "def compute_interval_in_cents(f_hz, f_ref_hz=55):\n",
    "    \"\"\"\n",
    "    Computes interval in cents between two or multiple frequencies\n",
    "    :param f_hz: frequency or array of frequencies given in Hz\n",
    "    :param f_ref_hz: reference frequency or array of reference frequencies given in Hz\n",
    "    :return: interval(s) in cents\n",
    "    \"\"\"\n",
    "    f_new = copy.deepcopy(f_hz)\n",
    "    f_ref_new = copy.deepcopy(f_ref_hz)\n",
    "\n",
    "    if not np.isscalar(f_new):\n",
    "        f_new[f_new == 0] = np.nan\n",
    "\n",
    "    if not np.isscalar(f_ref_new):\n",
    "        f_ref_new[f_ref_new == 0] = np.nan\n",
    "\n",
    "    int_cents = 1200 * np.log2(np.divide(f_new, f_ref_new))\n",
    "\n",
    "    return int_cents\n",
    "\n",
    "dev_sop = compute_interval_in_cents(traj_median_sop[:, 1], traj_MIDI_sop[:, 1])\n",
    "dev_alt = compute_interval_in_cents(traj_median_alt[:, 1], traj_MIDI_alt[:, 1])\n",
    "dev_ten = compute_interval_in_cents(traj_median_ten[:, 1], traj_MIDI_ten[:, 1])\n",
    "dev_bas = compute_interval_in_cents(traj_median_bas[:, 1], traj_MIDI_bas[:, 1])\n",
    "\n",
    "print(dev_sop.reshape(-1,1).shape)"
   ]
  },
  {
   "cell_type": "code",
   "execution_count": null,
   "metadata": {},
   "outputs": [],
   "source": [
    "# visualize mean\n",
    "dev_mean = np.nanmean(np.hstack((dev_sop.reshape(-1,1), dev_alt.reshape(-1,1), dev_ten.reshape(-1,1), dev_bas.reshape(-1,1))), axis=1)\n",
    "print(dev_mean)"
   ]
  },
  {
   "cell_type": "code",
   "execution_count": null,
   "metadata": {},
   "outputs": [],
   "source": [
    "plt.figure()\n",
    "plt.plot(sop[:, 0], dev_mean)"
   ]
  },
  {
   "cell_type": "code",
   "execution_count": null,
   "metadata": {},
   "outputs": [],
   "source": [
    "# visualize individual voices\n",
    "#%matplotlib notebook\n",
    "\n",
    "fig = plt.figure()\n",
    "plt.axhline(y=0, color='k')\n",
    "#plt.plot(sop_mean[:, 0], mean_dev, color='k', marker='.', linestyle='')\n",
    "plt.plot(sop[:, 0], dev_sop, marker='.', linestyle='')\n",
    "plt.plot(alt[:, 0], dev_alt, marker='.', linestyle='')\n",
    "plt.plot(ten[:, 0], dev_ten, marker='.', linestyle='')\n",
    "plt.plot(bas[:, 0], dev_bas, marker='.', linestyle='')\n",
    "#plt.ylim((-500, 200))\n",
    "plt.legend(('', 'Soprano', 'Alto', 'Tenor', 'Bass'))"
   ]
  },
  {
   "cell_type": "code",
   "execution_count": null,
   "metadata": {},
   "outputs": [],
   "source": [
    "import pywebaudioplayer as pwa\n",
    "import IPython.display\n",
    "import os\n",
    "\n",
    "# temporary paths\n",
    "temp_audio_path = './player.wav'\n",
    "temp_figure_path = './player.png'\n",
    "\n",
    "# delete existing files\n",
    "if os.path.isfile(temp_audio_path):\n",
    "    os.remove(temp_audio_path)\n",
    "if os.path.isfile(temp_figure_path):\n",
    "    os.remove(temp_figure_path)\n",
    "\n",
    "x, fs = librosa.load(\"../../../../Google Drive/Dagstuhl Dataset/Audio/norm-downsampled/DLI_QuartetB_Take4_Stereo_STM.wav\")\n",
    "ts2 = pwa.trackswitch([{'title': 'Audio', 'samples': (x, fs), 'path': temp_audio_path}], seekable_image=(fig, temp_figure_path), repeat=True)\n",
    "IPython.display.HTML(ts2)"
   ]
  },
  {
   "cell_type": "code",
   "execution_count": null,
   "metadata": {},
   "outputs": [],
   "source": [
    "from IPython.display import HTML\n",
    "\n",
    "HTML(filename=\"../player.html\")"
   ]
  },
  {
   "cell_type": "code",
   "execution_count": null,
   "metadata": {},
   "outputs": [],
   "source": []
  }
 ],
 "metadata": {
  "kernelspec": {
   "display_name": "Python 3",
   "language": "python",
   "name": "python3"
  },
  "language_info": {
   "codemirror_mode": {
    "name": "ipython",
    "version": 3
   },
   "file_extension": ".py",
   "mimetype": "text/x-python",
   "name": "python",
   "nbconvert_exporter": "python",
   "pygments_lexer": "ipython3",
   "version": "3.6.5"
  }
 },
 "nbformat": 4,
 "nbformat_minor": 2
}
