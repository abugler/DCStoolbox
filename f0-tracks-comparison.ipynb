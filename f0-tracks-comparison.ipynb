{
 "cells": [
  {
   "cell_type": "markdown",
   "metadata": {},
   "source": [
    "# Comparison of $f_0$ contours \n",
    "\n",
    "In this notebook we compare the results of three state-of-the-art $f_0$ extractors: pYIN, CREPE and SAC (not publicly available).\n",
    "\n",
    "### STEPS\n",
    "\n",
    "1. Convert pYIN output to constant hopsize and unvoiced frames labeled as 0.\n",
    "2. Resample $f_0$ contours to a common timebase, i.e. SAC's timebase of 5 ms.\n",
    "3. Read three versions of contours per file\n",
    "4. Plot some of them for visualization.\n",
    "5. Further steps include quantify how similar they are. "
   ]
  },
  {
   "cell_type": "code",
   "execution_count": 2,
   "metadata": {},
   "outputs": [],
   "source": [
    "import numpy as np\n",
    "import pandas as pd\n",
    "import matplotlib.pyplot as plt\n",
    "\n",
    "import mir_eval\n",
    "\n",
    "import os\n"
   ]
  },
  {
   "cell_type": "code",
   "execution_count": 16,
   "metadata": {},
   "outputs": [
    {
     "data": {
      "image/png": "[encoded data removed]",
      "text/plain": [
       "<Figure size 1440x720 with 1 Axes>"
      ]
     },
     "metadata": {
      "needs_background": "light"
     },
     "output_type": "display_data"
    },
    {
     "data": {
      "text/plain": [
       "\"\\n# pYIN output needs to be re-arranged to match others' format\\n\\n\\n\\n\\n\\n\\npyi_fr, pyi_voic = mir_eval.melody.freq_to_voicing(pyi_new[:, 1])    \\npyi_freq, _ = mir_eval.melody.resample_melody_series(pyi_new[:, 0], pyi_new[:, 1], pyi_voic, timebase, kind='linear')\\n\""
      ]
     },
     "execution_count": 16,
     "metadata": {},
     "output_type": "execute_result"
    }
   ],
   "source": [
    "cr_path = '../pitch/CREPE/'\n",
    "py_path = '../pitch/pYIN/'\n",
    "sac_path = '../pitch//SAC/'\n",
    "\n",
    "fn = 'DLI_All_Take1_A1_LRX.csv'\n",
    "\n",
    "sac = np.loadtxt(os.path.join(sac_path, fn[:-3]+'f0'))\n",
    "timebase = sac[:, 0]\n",
    "\n",
    "\n",
    "pyi = np.array(pd.read_csv(os.path.join(py_path, fn), header=None))\n",
    "idx_tb = np.digitize(pyi[:, 0], timebase)\n",
    "pyi_new = np.zeros([len(timebase), 2])\n",
    "pyi_new[:, 0] = timebase\n",
    "pyi_new[idx_tb, 1] = pyi[:, 1] \n",
    "#print(pyi_new)\n",
    "\n",
    "\n",
    "plt.figure(figsize=(20,10))\n",
    "plt.plot(pyi_new[:200,0], pyi_new[:200,1], '.')\n",
    "plt.show()\n",
    "'''\n",
    "# pYIN output needs to be re-arranged to match others' format\n",
    "\n",
    "\n",
    "\n",
    "\n",
    "\n",
    "\n",
    "pyi_fr, pyi_voic = mir_eval.melody.freq_to_voicing(pyi_new[:, 1])    \n",
    "pyi_freq, _ = mir_eval.melody.resample_melody_series(pyi_new[:, 0], pyi_new[:, 1], pyi_voic, timebase, kind='linear')\n",
    "'''"
   ]
  },
  {
   "cell_type": "code",
   "execution_count": null,
   "metadata": {},
   "outputs": [],
   "source": [
    "\n",
    "\n",
    "for fn in os.listdir(cr_path):\n",
    "    \n",
    "    print(fn)\n",
    "    \n",
    "    if not fn.endswith('csv'): continue\n",
    "        \n",
    "    sac = np.loadtxt(os.path.join(sac_path, fn[:-3]+'f0'))\n",
    "    timebase = sac[:, 0]\n",
    "    sac_fr, sac_voic = mir_eval.melody.freq_to_voicing(sac[:, 1])\n",
    "    sac_freq, _ = mir_eval.melody.resample_melody_series(sac[:, 0], sac[:, 1], sac_voic, timebase, kind='linear')\n",
    "    \n",
    "    \n",
    "    cr = np.array(pd.read_csv(os.path.join(cr_path, fn), header=None))\n",
    "    \n",
    "    # use confidence to filter out unvoiced frames, threshold=0.5\n",
    "    cr[np.where(cr[:,-1] <= 0.5)[0],1] = 0\n",
    "    cr_fr, cr_voic = mir_eval.melody.freq_to_voicing(cr[:, 1])\n",
    "    cr_freq, _ = mir_eval.melody.resample_melody_series(cr[:, 0], cr[:, 1], cr_voic, timebase, kind='linear')\n",
    "    \n",
    "    \n",
    "    \n",
    "    pyi = np.array(pd.read_csv(os.path.join(py_path, fn), header=None))\n",
    "    \n",
    "    # pYIN output needs to be re-arranged to match others' format\n",
    "    idx_tb = np.digitize(pyi[:, 0], timebase)\n",
    "    pyi_new = np.zeros([len(timebase), 2])\n",
    "    pyi_new[:, 0] = timebase\n",
    "    pyi_new[idx_tb, 1] = pyi[:, 1] \n",
    "    \n",
    "    #plt.plot(pyi_new[:,0], pyi_new[:,1], '*'), plt.show()\n",
    "    \n",
    "\n",
    "    \n",
    "    pyi_fr, pyi_voic = mir_eval.melody.freq_to_voicing(pyi_new[:, 1])    \n",
    "    pyi_freq, _ = mir_eval.melody.resample_melody_series(pyi_new[:, 0], pyi_new[:, 1], pyi_voic, timebase, kind='linear')\n",
    "    \n",
    "    plt.plot(pyi_freq[:200],'.')\n",
    "    plt.show()\n",
    "    \n",
    "    '''\n",
    "    # plot for viz\n",
    "    \n",
    "    plt.figure(figsize=(20,10))\n",
    "    \n",
    "    plt.subplot(311), plt.plot(timebase, cr_freq, '.r'), plt.title('CREPE')\n",
    "    plt.subplot(312), plt.plot(timebase, sac_freq, '.g'), plt.title('SAC')\n",
    "    plt.subplot(313), plt.plot(timebase, pyi_freq, '.m'), plt.title('pYIN')\n",
    "\n",
    "    plt.tight_layout()\n",
    "    \n",
    "    #plt.show()\n",
    "    plt.savefig('./figs/' + fn[:-3] + 'png', format='png')\n",
    "    \n",
    "    '''\n",
    "    # Compare pairs of f0 tracks frame-wise by computing differences in f0\n",
    "    print(pyi_freq[100])\n",
    "    \n",
    "    d_cr_pyi = np.abs(\n",
    "        cr_freq - pyi_freq)\n",
    "    \n",
    "    d_cr_sac = np.abs(\n",
    "        cr_freq - sac_freq)\n",
    "    \n",
    "    d_pyi_sac = np.abs(\n",
    "        pyi_freq, sac_freq)"
   ]
  }
 ],
 "metadata": {
  "kernelspec": {
   "display_name": "Python 3",
   "language": "python",
   "name": "python3"
  },
  "language_info": {
   "codemirror_mode": {
    "name": "ipython",
    "version": 3
   },
   "file_extension": ".py",
   "mimetype": "text/x-python",
   "name": "python",
   "nbconvert_exporter": "python",
   "pygments_lexer": "ipython3",
   "version": "3.6.8"
  }
 },
 "nbformat": 4,
 "nbformat_minor": 2
}
