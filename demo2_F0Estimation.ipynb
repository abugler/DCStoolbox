{
 "cells": [
  {
   "cell_type": "markdown",
   "metadata": {},
   "source": [
    "# Dagstuhl ChoirSet: F0-Estimation Demo"
   ]
  },
  {
   "cell_type": "markdown",
   "metadata": {},
   "source": [
    "### Table of contents\n",
    "\n",
    "1. [DCS Content Parser](#one)\n",
    "2. [Some remarks about the f0estimation script](#two)\n",
    "3. [Extracting F0-trajectories using pYIN](#three)\n",
    "4. [Extracting F0-trajectories using CREPE](#four)\n"
   ]
  },
  {
   "cell_type": "markdown",
   "metadata": {},
   "source": [
    "### 1. DCS Content Parser<a class=\"anchor\" id=\"one\"></a>\n",
    "\n",
    "We first use the `DCS_content_parser` function to retrieve the path to the audio files we want to extract the F0-trajectories from. In this example we will extract F0-trajectories from the three close-up microphones of the second alto (A2) singing the third take of _Locus Iste_ with Quartet B."
   ]
  },
  {
   "cell_type": "code",
   "execution_count": null,
   "metadata": {},
   "outputs": [],
   "source": [
    "import DCStoolbox as dcst\n",
    "\n",
    "import os\n",
    "\n",
    "# Settings\n",
    "DCS_path = './DagstuhlChoirSet/'\n",
    "song_id = 'DCS_LI'\n",
    "setting = 'QuartetB'\n",
    "take = 'Take03'\n",
    "part = 'A2'\n",
    "mic = '*'\n",
    "\n",
    "DCS_table = dcst.DCS_content_parser(DCS_path, song_id, setting, take, part, mic)\n",
    "DCS_table\n"
   ]
  },
  {
   "cell_type": "markdown",
   "metadata": {},
   "source": [
    "### 2. Some remarks about the `f0estimation` script <a class=\"anchor\" id=\"two\"></a>\n",
    "\n",
    "The `f0estimation.py` script is part of the toolbox and can be used to automatically extract F0-trajectories from monophonic audio signals using either pYIN (Mauch and Dixon (2014)) or CREPE (Kim et al. (2018)) algorithms. This script can be called either from the **command-line** or inside **Python**. In this demo notebook we use the latter; however, let us briefly describe the procedure using the command-line functionality. \n",
    "\n",
    "#### Calling `f0estimation.py` from the command-line\n",
    "\n",
    "``python3 f0estimation.py ---input_parameters_here---``\n",
    "\n",
    "The input paramaters are as follows:\n",
    "* **--method**: pYIN/crepe\n",
    "* **--mode**: 1 (extract the F0-trajectory of a single audio file) / 2 (extract the F0-trajectories of all audio files inside a folder\n",
    "* **--folder**: path to the folder with the audio file(s)\n",
    "* **--audio_file**: if _mode=1_, this should be the filename of the audio to process\n",
    "\n",
    "The algorithm will create a new folder (called either \"pYIN\" or \"CREPE\" depending on the chosen method\") in the same directory of the input audio files and store the resulting F0-trajectories as CSV files. For details about the format, please refer to the paper that this toolbox accompanies.\n",
    "\n",
    "#### Using `f0estimation.py` inside Python\n",
    "In the following cells we provide examples on how to use the script."
   ]
  },
  {
   "cell_type": "markdown",
   "metadata": {},
   "source": [
    "### 3. Extracting F0-trajectories using pYIN <a class=\"anchor\" id=\"three\"></a>\n",
    "\n",
    "We use the paths extracted in the previous section and use the script `f0estimation.py` from the toolbox to extract the F0-trajectories using pYIN. We do it for each of the selected audio files. Note that besides outputting the F0-trajectories, they are also stored as CSV files (see Section 2)."
   ]
  },
  {
   "cell_type": "code",
   "execution_count": null,
   "metadata": {},
   "outputs": [],
   "source": [
    "import matplotlib.pyplot as plt\n",
    "\n",
    "\n",
    "for rw in DCS_table['Audio']:\n",
    "    \n",
    "    filename = os.path.basename(rw)\n",
    "    folder = os.path.dirname(rw)\n",
    "    \n",
    "    traj = dcst.f0estimation.extract_F0_pYIN_vamp(folder, filename)\n",
    "    # traj contains three columns with timestamp in seconds, the pitch in Hz and the confidence\n",
    "    \n",
    "    plt.figure(figsize=(15, 5))\n",
    "    plt.plot(traj[:, 0], traj[:, 1], '.r', markersize=6)\n",
    "    plt.ylim([0, 600]) # trick to easily skip negative values only for viz purposes\n",
    "    plt.xlabel('Time (seconds)'), plt.ylabel('Frequency (Hz)'), plt.title('pYIN - ' + filename)\n",
    "    plt.show()"
   ]
  },
  {
   "cell_type": "markdown",
   "metadata": {},
   "source": [
    "### 4. Extracting F0-trajectories using CREPE <a class=\"anchor\" id=\"four\"></a>\n",
    "\n",
    "We follow the same procedure as in Section 3 but in this case we use CREPE to extract the F0-trajectories. Note that CREPE is a deep learning model trained using TensorFlow using GPU. The next cell takes a long time to run if you are not running this on GPU. The CSV files with the extracted F0-trajectories are also stored by default, as in the case of pYIN."
   ]
  },
  {
   "cell_type": "code",
   "execution_count": null,
   "metadata": {},
   "outputs": [],
   "source": [
    "import matplotlib.pyplot as plt\n",
    "\n",
    "\n",
    "for rw in DCS_table['Audio']:\n",
    "    \n",
    "    filename = os.path.basename(rw)\n",
    "    folder = os.path.dirname(rw)\n",
    "    \n",
    "    traj = dcst.f0estimation.extract_F0_CREPE(folder, filename)\n",
    "    # traj contains three columns with timestamp in seconds, the pitch in Hz and the confidence\n",
    "    \n",
    "    plt.figure(figsize=(15, 5))\n",
    "    plt.plot(traj[:, 0], traj[:, 1], '.m', markersize=6)\n",
    "    plt.ylim([0, 600]) # trick to easily skip negative values only for viz purposes\n",
    "    plt.xlabel('Time (seconds)'), plt.ylabel('Frequency (Hz)'), plt.title('CREPE - ' + filename)\n",
    "    plt.show()"
   ]
  },
  {
   "cell_type": "code",
   "execution_count": null,
   "metadata": {},
   "outputs": [],
   "source": []
  }
 ],
 "metadata": {
  "kernelspec": {
   "display_name": "Python 3",
   "language": "python",
   "name": "python3"
  },
  "language_info": {
   "codemirror_mode": {
    "name": "ipython",
    "version": 3
   },
   "file_extension": ".py",
   "mimetype": "text/x-python",
   "name": "python",
   "nbconvert_exporter": "python",
   "pygments_lexer": "ipython3",
   "version": "3.8.2"
  }
 },
 "nbformat": 4,
 "nbformat_minor": 2
}
