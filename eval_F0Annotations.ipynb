{
 "cells": [
  {
   "cell_type": "markdown",
   "metadata": {},
   "source": [
    "# Dagstuhl ChoirSet: Evaluation of F0-Annotations"
   ]
  },
  {
   "cell_type": "code",
   "execution_count": null,
   "metadata": {},
   "outputs": [],
   "source": [
    "import numpy as np\n",
    "import matplotlib.pyplot as plt\n",
    "import pandas as pd\n",
    "import mir_eval\n",
    "\n",
    "import os\n",
    "import glob\n",
    "\n",
    "import DCStoolbox as dcst"
   ]
  },
  {
   "cell_type": "code",
   "execution_count": null,
   "metadata": {},
   "outputs": [],
   "source": [
    "tony_path = r'/Users/rosenzweig/Google Drive/Dagstuhl Dataset/Annotations/pitch/Tony/'\n",
    "pyin_path =  '/Users/rosenzweig/Documents/data/DagstuhlChoirSet_V1.0/annotations_csv_F0_PYIN/'\n",
    "crepe_path = '/Users/rosenzweig/Documents/data/DagstuhlChoirSet_V1.0/annotations_csv_F0_CREPE/'\n"
   ]
  },
  {
   "cell_type": "code",
   "execution_count": null,
   "metadata": {},
   "outputs": [],
   "source": [
    "file_list = np.sort(glob.glob((pyin_path + '*.csv')))\n",
    "\n",
    "eval_pyin_lrx = np.empty((0,5))\n",
    "eval_pyin_hsm = np.empty((0,5))\n",
    "eval_crepe_lrx = np.empty((0,5))\n",
    "eval_crepe_hsm = np.empty((0,5))\n",
    "\n",
    "for pyin_file in file_list:\n",
    "    fn = os.path.basename(pyin_file)[:-4]\n",
    "    \n",
    "    anno_file = glob.glob(tony_path + fn[:-3] + '*_pitch.csv')\n",
    "    if not anno_file:\n",
    "        continue\n",
    "    else:\n",
    "        anno_file = anno_file[0]\n",
    "    crepe_file = crepe_path + fn + '.csv'\n",
    "    print(fn)\n",
    "    \n",
    "    # read files\n",
    "    header = None\n",
    "    names = None\n",
    "    anno = pd.read_csv(anno_file, sep=',', keep_default_na=False, header=header, names=names).values\n",
    "    pyin = pd.read_csv(pyin_file, sep=',', keep_default_na=False, header=header, names=names).values\n",
    "    crepe = pd.read_csv(crepe_file, sep=',', keep_default_na=False, header=header, names=names).values\n",
    "    \n",
    "    # pad annotations with zeros\n",
    "    pref = np.arange(0, anno[0, 0], anno[1, 0]-anno[0, 0]).reshape(-1,1)\n",
    "    anno = np.vstack((np.hstack((pref, np.zeros(pref.shape))), anno))\n",
    "    \n",
    "    # remove discontinuities in time axis\n",
    "    anno = np.delete(anno, np.where(anno[:-1, 0] >= anno[1:, 0])[0], axis=0)\n",
    "\n",
    "    # resample to common time axis\n",
    "    kind = 'cubic'\n",
    "    t = np.arange(0, np.min([anno[-1, 0], pyin[-1, 0], crepe[-1, 0]]), 0.01)    \n",
    "    anno_res, anno_va = mir_eval.melody.resample_melody_series(anno[:, 0], anno[:, 1], anno[:,1]>0, \n",
    "                                                               t, kind=kind)\n",
    "    pyin_res, pyin_va = mir_eval.melody.resample_melody_series(pyin[:, 0], np.abs(pyin[:, 1]), pyin[:, 1]>0, \n",
    "                                                               t, kind=kind)\n",
    "    crepe_res, crepe_va = mir_eval.melody.resample_melody_series(crepe[:, 0], crepe[:, 1], crepe[:, 2]>0.5, \n",
    "                                                                 t, kind=kind)\n",
    "    \n",
    "    # evaluate\n",
    "    tol_cents = 20\n",
    "    eval_pyin = mir_eval.melody.evaluate(t, anno_res, t, pyin_res*pyin_va, cent_tolerance=tol_cents)\n",
    "    eval_crepe = mir_eval.melody.evaluate(t, anno_res, t, crepe_res*crepe_va, cent_tolerance=tol_cents)\n",
    "    \n",
    "    if \"LRX\" in fn:\n",
    "        eval_pyin_lrx = np.append(eval_pyin_lrx, np.array([[eval_pyin['Voicing Recall'], \n",
    "                                                            eval_pyin['Voicing False Alarm'], \n",
    "                                                            eval_pyin['Raw Pitch Accuracy'], \n",
    "                                                            eval_pyin['Raw Chroma Accuracy'], \n",
    "                                                            eval_pyin['Overall Accuracy']]]), axis=0)\n",
    "        eval_crepe_lrx = np.append(eval_crepe_lrx, np.array([[eval_crepe['Voicing Recall'], \n",
    "                                                            eval_crepe['Voicing False Alarm'], \n",
    "                                                            eval_crepe['Raw Pitch Accuracy'], \n",
    "                                                            eval_crepe['Raw Chroma Accuracy'], \n",
    "                                                            eval_crepe['Overall Accuracy']]]), axis=0)\n",
    "    else:\n",
    "        eval_pyin_hsm = np.append(eval_pyin_hsm, np.array([[eval_pyin['Voicing Recall'], \n",
    "                                                            eval_pyin['Voicing False Alarm'], \n",
    "                                                            eval_pyin['Raw Pitch Accuracy'], \n",
    "                                                            eval_pyin['Raw Chroma Accuracy'], \n",
    "                                                            eval_pyin['Overall Accuracy']]]), axis=0)\n",
    "        eval_crepe_hsm = np.append(eval_crepe_hsm, np.array([[eval_crepe['Voicing Recall'], \n",
    "                                                            eval_crepe['Voicing False Alarm'], \n",
    "                                                            eval_crepe['Raw Pitch Accuracy'], \n",
    "                                                            eval_crepe['Raw Chroma Accuracy'], \n",
    "                                                            eval_crepe['Overall Accuracy']]]), axis=0)"
   ]
  },
  {
   "cell_type": "code",
   "execution_count": null,
   "metadata": {},
   "outputs": [],
   "source": [
    "print('Voicing Recall, Voicing False Alarm, Raw Pitch Accuracy, Raw Chroma Accuracy, Overall Accuracy')\n",
    "print('LRX (PYIN, CREPE)')\n",
    "print(np.mean(eval_pyin_lrx, axis=0), np.mean(eval_crepe_lrx, axis=0))\n",
    "print('HSM (PYIN, CREPE)')\n",
    "print(np.mean(eval_pyin_hsm, axis=0), np.mean(eval_crepe_hsm, axis=0))"
   ]
  },
  {
   "cell_type": "code",
   "execution_count": null,
   "metadata": {},
   "outputs": [],
   "source": [
    "print('HSM: Voicing Recall, Voicing False Alarm, Raw Pitch Accuracy, Raw Chroma Accuracy, Overall Accuracy')\n",
    "np.mean(eval_pyin_hsm, axis=0), np.mean(eval_crepe_hsm, axis=0)"
   ]
  },
  {
   "cell_type": "code",
   "execution_count": null,
   "metadata": {},
   "outputs": [],
   "source": [
    "%matplotlib notebook\n",
    "plt.figure()\n",
    "plt.plot(t, anno_res*anno_va, marker='.', linestyle='')\n",
    "plt.plot(t, pyin_res*pyin_va, marker='.', linestyle='')\n",
    "plt.plot(t, crepe_res*crepe_va, marker='.', linestyle='')\n",
    "plt.legend(('anno', 'pyin', 'crepe'))"
   ]
  },
  {
   "cell_type": "code",
   "execution_count": null,
   "metadata": {},
   "outputs": [],
   "source": []
  }
 ],
 "metadata": {
  "kernelspec": {
   "display_name": "Python 3",
   "language": "python",
   "name": "python3"
  },
  "language_info": {
   "codemirror_mode": {
    "name": "ipython",
    "version": 3
   },
   "file_extension": ".py",
   "mimetype": "text/x-python",
   "name": "python",
   "nbconvert_exporter": "python",
   "pygments_lexer": "ipython3",
   "version": "3.8.2"
  }
 },
 "nbformat": 4,
 "nbformat_minor": 4
}
