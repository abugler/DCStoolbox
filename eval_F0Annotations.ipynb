{
 "cells": [
  {
   "cell_type": "markdown",
   "metadata": {},
   "source": [
    "# Dagstuhl ChoirSet: Evaluation of F0-Annotations"
   ]
  },
  {
   "cell_type": "code",
   "execution_count": null,
   "metadata": {},
   "outputs": [],
   "source": [
    "import numpy as np\n",
    "import matplotlib.pyplot as plt\n",
    "import pandas as pd\n",
    "import mir_eval\n",
    "\n",
    "import os\n",
    "import glob\n",
    "\n",
    "import DCStoolbox as dcst"
   ]
  },
  {
   "cell_type": "code",
   "execution_count": null,
   "metadata": {},
   "outputs": [],
   "source": [
    "anno_path = '/Users/rosenzweig/Google\\ Drive/Dagstuhl\\ Dataset/Annotations/'\n",
    "\n",
    "tony_path = anno_path + 'pitch/Tony/'\n",
    "pyin_path = anno_path + 'pitch/pYIN/'\n",
    "crepe_path = anno_path + 'pitch/CREPE/'\n"
   ]
  },
  {
   "cell_type": "code",
   "execution_count": null,
   "metadata": {},
   "outputs": [],
   "source": [
    "for fn in fns:\n",
    "    \n",
    "    \n",
    "    for voice in ['S', 'A', 'T', 'B']:\n",
    "        # read files\n",
    "        anno = pd.read_csv(yin_hsm_path, sep=',', keep_default_na=False, header=header, names=names).values\n",
    "\n",
    "        # resample to common time axis\n",
    "\n",
    "        # evaluate"
   ]
  },
  {
   "cell_type": "code",
   "execution_count": null,
   "metadata": {},
   "outputs": [],
   "source": []
  }
 ],
 "metadata": {
  "kernelspec": {
   "display_name": "Python 3",
   "language": "python",
   "name": "python3"
  },
  "language_info": {
   "codemirror_mode": {
    "name": "ipython",
    "version": 3
   },
   "file_extension": ".py",
   "mimetype": "text/x-python",
   "name": "python",
   "nbconvert_exporter": "python",
   "pygments_lexer": "ipython3",
   "version": "3.8.2"
  }
 },
 "nbformat": 4,
 "nbformat_minor": 4
}
